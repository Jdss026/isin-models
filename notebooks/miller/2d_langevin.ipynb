{
  "cells": [
    {
      "cell_type": "code",
      "execution_count": 1,
      "metadata": {},
      "outputs": [],
      "source": [
        "import matplotlib.pyplot as plt\n",
        "import torch.sparse as sp\n",
        "from scipy.sparse import lil_matrix\n",
        "import torch\n",
        "import json\n",
        "\n",
        "import numpy as np\n",
        "from scipy.sparse import lil_matrix"
      ]
    },
    {
      "cell_type": "markdown",
      "metadata": {},
      "source": [
        "## New laplacian code"
      ]
    },
    {
      "cell_type": "code",
      "execution_count": 2,
      "metadata": {},
      "outputs": [
        {
          "name": "stdout",
          "output_type": "stream",
          "text": [
            "tensor([[-4.,  1.,  0.,  1.,  0.,  0.,  0.,  0.,  0.],\n",
            "        [ 1., -4.,  1.,  0.,  1.,  0.,  0.,  0.,  0.],\n",
            "        [ 0.,  1., -4.,  0.,  0.,  1.,  0.,  0.,  0.],\n",
            "        [ 1.,  0.,  0., -4.,  1.,  0.,  1.,  0.,  0.],\n",
            "        [ 0.,  1.,  0.,  1., -4.,  1.,  0.,  1.,  0.],\n",
            "        [ 0.,  0.,  1.,  0.,  1., -4.,  0.,  0.,  1.],\n",
            "        [ 0.,  0.,  0.,  1.,  0.,  0., -4.,  1.,  0.],\n",
            "        [ 0.,  0.,  0.,  0.,  1.,  0.,  1., -4.,  1.],\n",
            "        [ 0.,  0.,  0.,  0.,  0.,  1.,  0.,  1., -4.]])\n"
          ]
        }
      ],
      "source": [
        "def create_laplacian_matrix(n):\n",
        "    # Total number of grid points\n",
        "    total_points = n * n\n",
        "\n",
        "    laplacian = lil_matrix((total_points, total_points))\n",
        "    \n",
        "    # Fill the matrix based on finite difference method for Laplacian\n",
        "    for i in range(n):\n",
        "        for j in range(n):\n",
        "            row = i * n + j  # Current grid point\n",
        "            \n",
        "            # Diagonal element\n",
        "            laplacian[row, row] = 4\n",
        "            \n",
        "            # Check and update neighbors (left, right, up, down)\n",
        "            if i > 0:\n",
        "                laplacian[row, (i - 1) * n + j] = -1  # Up\n",
        "            if i < n - 1:\n",
        "                laplacian[row, (i + 1) * n + j] = -1  # Down\n",
        "            if j > 0:\n",
        "                laplacian[row, i * n + (j - 1)] = -1  # Left\n",
        "            if j < n - 1:\n",
        "                laplacian[row, i * n + (j + 1)] = -1  # Right\n",
        "    \n",
        "    # Convert to CSR format for efficient arithmetic operations\n",
        "    \n",
        "    laplacian = laplacian.tocsr()\n",
        "    laplacian = -laplacian\n",
        "\n",
        "    # Extract coordinates and values\n",
        "    row_indices = []\n",
        "    col_indices = []\n",
        "    values = []\n",
        "\n",
        "    for row in range(laplacian.shape[0]):\n",
        "        start = laplacian.indptr[row]\n",
        "        end = laplacian.indptr[row + 1]\n",
        "        row_indices.extend([row] * (end - start))\n",
        "        col_indices.extend(laplacian.indices[start:end])\n",
        "        values.extend(laplacian.data[start:end])\n",
        "    \n",
        "    # convert to coo_matrix\n",
        "    coo_matrix = torch.sparse_coo_tensor(\n",
        "        torch.tensor([row_indices, col_indices], dtype=torch.int64),\n",
        "        torch.tensor(values, dtype=torch.float32),\n",
        "        torch.Size((n*n,n*n))\n",
        "    )\n",
        "\n",
        "    return coo_matrix\n",
        "\n",
        "# Example usage\n",
        "grid_size = 3  # Change this value to adjust the grid size\n",
        "laplacian_matrix = create_laplacian_matrix(grid_size)\n",
        "\n",
        "print(laplacian_matrix.to_dense())  # Print the dense representation for visualization"
      ]
    },
    {
      "cell_type": "markdown",
      "metadata": {
        "id": "dKMP6BShVEP6"
      },
      "source": [
        "## Rewrite the original code using torch"
      ]
    },
    {
      "cell_type": "code",
      "execution_count": 3,
      "metadata": {
        "id": "UTrVkbBKT7_5"
      },
      "outputs": [],
      "source": [
        "\n",
        "# Simulating the TDGL equation\n",
        "a, b, k = 1.0, 1.0, 100.0 #configuração: (a<0, b>0) ou (a>0, b>0)\n",
        "dh, dt = 1.0, 1e-3\n",
        "Ng, Tf = 4, 10001\n",
        "\n",
        "a = torch.tensor(a, device='cpu')\n",
        "b = torch.tensor(b, device='cpu')\n",
        "k = torch.tensor(k, device='cpu')\n",
        "dh = torch.tensor(dh, device='cpu')\n",
        "dt = torch.tensor(dt, device='cpu')\n",
        "Ng = torch.tensor(Ng, device='cpu')\n",
        "Tf = torch.tensor(Tf, device='cpu')\n",
        "T = torch.tensor([0.1], device='cpu')\n",
        "\n",
        "# Ng, Tf = 64, 10001\n",
        "master_list = []\n",
        "\n",
        "\n",
        "def laplacian(n):\n",
        "    # Total number of grid points\n",
        "    total_points = n * n\n",
        "\n",
        "    matrix_laplacian = lil_matrix((total_points, total_points))\n",
        "    \n",
        "    # Fill the matrix based on finite difference method for Laplacian\n",
        "    for i in range(n):\n",
        "        for j in range(n):\n",
        "            row = i * n + j  # Current grid point\n",
        "            \n",
        "            # Diagonal element\n",
        "            matrix_laplacian[row, row] = 4\n",
        "            \n",
        "            # Check and update neighbors (left, right, up, down)\n",
        "            if i > 0:\n",
        "                matrix_laplacian[row, (i - 1) * n + j] = -1  # Up\n",
        "            if i < n - 1:\n",
        "                matrix_laplacian[row, (i + 1) * n + j] = -1  # Down\n",
        "            if j > 0:\n",
        "                matrix_laplacian[row, i * n + (j - 1)] = -1  # Left\n",
        "            if j < n - 1:\n",
        "                matrix_laplacian[row, i * n + (j + 1)] = -1  # Right\n",
        "    \n",
        "    # Convert to CSR format for efficient arithmetic operations\n",
        "    \n",
        "    matrix_laplacian = matrix_laplacian.tocsr()\n",
        "    matrix_laplacian = -matrix_laplacian\n",
        "\n",
        "    # Extract coordinates and values\n",
        "    row_indices = []\n",
        "    col_indices = []\n",
        "    values = []\n",
        "\n",
        "    for row in range(matrix_laplacian.shape[0]):\n",
        "        start = matrix_laplacian.indptr[row]\n",
        "        end = matrix_laplacian.indptr[row + 1]\n",
        "        row_indices.extend([row] * (end - start))\n",
        "        col_indices.extend(matrix_laplacian.indices[start:end])\n",
        "        values.extend(matrix_laplacian.data[start:end])\n",
        "    \n",
        "    # convert to coo_matrix\n",
        "    coo_matrix = torch.sparse_coo_tensor(\n",
        "        torch.tensor([row_indices, col_indices], dtype=torch.int64),\n",
        "        torch.tensor(values, dtype=torch.float32),\n",
        "        torch.Size((n*n,n*n))\n",
        "    )\n",
        "\n",
        "    return coo_matrix\n",
        "\n",
        "def integrate(L, x, y, u):\n",
        "    '''  simulates the equation and plots it at different instants '''\n",
        "\n",
        "    #f = plt.figure(figsize=(15, 15), dpi=80);\n",
        "\n",
        "    for i in range(Tf.item()):\n",
        "        noise = torch.normal(mean=0.0, std=1.0, size=(Ng * Ng, 1), device='cpu')\n",
        "        u = u - dt * (a * u + b * u * u * u - k * torch.mm(L, u)) + torch.sqrt(2 * T * dt) * noise  # Euler's method\n",
        "\n",
        "        # if (i==0):      configPlot(x, y, u, f, 1, i);\n",
        "        # if (i==1):      configPlot(x, y, u, f, 2, i);\n",
        "        # if (i==10):     configPlot(x, y, u, f, 3, i);\n",
        "        # if (i==100):    configPlot(x, y, u, f, 4, i);\n",
        "        # if (i==1000):   configPlot(x, y, u, f, 5, i);\n",
        "        if (i==10000):\n",
        "            master_list.append(u)\n",
        "            #configPlot(x, y, u, f, 6, i)\n",
        "\n",
        "\n",
        "def configPlot(x, y, u,f, n_, i):\n",
        "    u = u.view((Ng, Ng))\n",
        "    u = u.cpu()\n",
        "    U = u.numpy()\n",
        "    sp =  f.add_subplot(3, 3, n_ )\n",
        "    plt.setp(sp.get_yticklabels(), visible=False)\n",
        "    plt.setp(sp.get_xticklabels(), visible=False)\n",
        "    plt.pcolormesh(x,y,U, cmap=plt.cm.RdBu);\n",
        "    plt.title('Time=%d'%i)\n"
      ]
    },
    {
      "cell_type": "code",
      "execution_count": 4,
      "metadata": {
        "colab": {
          "base_uri": "https://localhost:8080/"
        },
        "id": "zoVzADTE8ZD0",
        "outputId": "0428098e-f767-47ec-b744-d52ef9004513"
      },
      "outputs": [
        {
          "name": "stderr",
          "output_type": "stream",
          "text": [
            "d:\\Anaconda\\Anaconda\\Lib\\site-packages\\torch\\functional.py:504: UserWarning: torch.meshgrid: in an upcoming release, it will be required to pass the indexing argument. (Triggered internally at C:\\cb\\pytorch_1000000000000\\work\\aten\\src\\ATen\\native\\TensorShape.cpp:3484.)\n",
            "  return _VF.meshgrid(tensors, **kwargs)  # type: ignore[attr-defined]\n"
          ]
        },
        {
          "name": "stdout",
          "output_type": "stream",
          "text": [
            "Time = 1/5\n",
            "Time = 2/5\n",
            "Time = 3/5\n",
            "Time = 4/5\n",
            "Time = 5/5\n"
          ]
        }
      ],
      "source": [
        "# generate the grid and initialise the field\n",
        "\n",
        "## define o dispositivo cuda a ser utilizado\n",
        "\n",
        "device = torch.device('cpu')\n",
        "\n",
        "## simula 100 configurações finais com os parametros iniciais\n",
        "\n",
        "#L = L.to_dense()\n",
        "L = laplacian(Ng)\n",
        "L = L.to(device)         # construct the laplacian\n",
        "for i in range(5):\n",
        "  u = torch.randn(Ng * Ng, 1, device=device)  # Initial data\n",
        "  integrate(L, x, y, u)    # simulate\n",
        "  print(f'Time = {i+1}/5')\n",
        "\n",
        "\n",
        "## salva estas configurações em um arquivo JSON\n",
        "\n",
        "mlist = [[] for _ in range(5)]\n",
        "num = 0\n",
        "for l in master_list:\n",
        "    l = l.cpu()\n",
        "    for i in range(len(l)):\n",
        "        mlist[num].append(l[i].item())\n",
        "    num+=1\n",
        "\n",
        "# file_path = 'data_configs_a_pos_b_pos.json'\n",
        "\n",
        "# with open(file_path, 'w') as json_file:\n",
        "#    json.dump(mlist, json_file)"
      ]
    },
    {
      "cell_type": "code",
      "execution_count": 16,
      "metadata": {
        "colab": {
          "base_uri": "https://localhost:8080/",
          "height": 452
        },
        "id": "0KYeu7mWrbuJ",
        "outputId": "3e4cc15d-52a0-4f47-afdc-1f5e2639430e"
      },
      "outputs": [
        {
          "data": {
            "text/plain": [
              "<matplotlib.collections.QuadMesh at 0x1521efab910>"
            ]
          },
          "execution_count": 16,
          "metadata": {},
          "output_type": "execute_result"
        },
        {
          "data": {
            "image/png": "[encoded data removed]",
            "text/plain": [
              "<Figure size 640x480 with 1 Axes>"
            ]
          },
          "metadata": {},
          "output_type": "display_data"
        }
      ],
      "source": [
        "## visualizar a configuração final individualmente\n",
        "\n",
        "x = torch.linspace(-1, 1, Ng)\n",
        "y = torch.linspace(-1, 1, Ng)\n",
        "X, Y = torch.meshgrid(x, y)\n",
        "\n",
        "u = master_list[4]\n",
        "u = u.view((Ng, Ng))\n",
        "u = u.cpu()\n",
        "U = u.numpy()\n",
        "\n",
        "plt.pcolormesh(x,y,U, cmap=plt.cm.RdBu)"
      ]
    },
    {
      "cell_type": "code",
      "execution_count": null,
      "metadata": {},
      "outputs": [],
      "source": []
    }
  ],
  "metadata": {
    "accelerator": "GPU",
    "colab": {
      "gpuType": "T4",
      "provenance": []
    },
    "kernelspec": {
      "display_name": "Python 3",
      "name": "python3"
    },
    "language_info": {
      "codemirror_mode": {
        "name": "ipython",
        "version": 3
      },
      "file_extension": ".py",
      "mimetype": "text/x-python",
      "name": "python",
      "nbconvert_exporter": "python",
      "pygments_lexer": "ipython3",
      "version": "3.11.5"
    }
  },
  "nbformat": 4,
  "nbformat_minor": 0
}
