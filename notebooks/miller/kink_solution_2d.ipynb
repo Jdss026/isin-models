{
 "cells": [
  {
   "cell_type": "markdown",
   "metadata": {},
   "source": [
    "## Load Packages"
   ]
  },
  {
   "cell_type": "code",
   "execution_count": 1,
   "metadata": {},
   "outputs": [],
   "source": [
    "import numpy as np\n",
    "import matplotlib.pyplot as plt\n",
    "import pickle"
   ]
  },
  {
   "cell_type": "markdown",
   "metadata": {},
   "source": [
    "## Kink solution at zero temperature"
   ]
  },
  {
   "cell_type": "code",
   "execution_count": 2,
   "metadata": {},
   "outputs": [],
   "source": [
    "def kink_eq(dx, N):\n",
    "    dx = float(dx)\n",
    "    #N = int(round(L/dx))\n",
    "    phi = np.zeros(N+1)\n",
    "    v = np.zeros(N+1)\n",
    "    x = np.linspace(-N*dx/2, N*dx/2, N+1)\n",
    "    #phi = 0.0\n",
    "    phi[0] = -0.9999\n",
    "    v[0] = 0.001\n",
    "    phi[N] = 0.99999\n",
    "    for i in range(0, N-1):\n",
    "        #phi = phi - dx * ( phi**2 - 1 )\n",
    "        v[i+1] = v[i] + 2 * dx * phi[i] * ( (phi[i])**2 - 1 )\n",
    "        phi[i+1] = phi[i] + dx * v[i+1]\n",
    "    return x, phi  #return phi[i]"
   ]
  },
  {
   "cell_type": "code",
   "execution_count": 3,
   "metadata": {},
   "outputs": [
    {
     "data": {
      "image/png": "[encoded data removed]",
      "text/plain": [
       "<Figure size 300x300 with 1 Axes>"
      ]
     },
     "metadata": {},
     "output_type": "display_data"
    }
   ],
   "source": [
    "x, phi = kink_eq(dx=0.01, N=1000)\n",
    "plt.figure(figsize=(3, 3))\n",
    "plt.plot(x, phi)\n",
    "plt.show()"
   ]
  },
  {
   "cell_type": "markdown",
   "metadata": {},
   "source": [
    "## Kink solution at finite temperature: Langevin equation"
   ]
  },
  {
   "cell_type": "code",
   "execution_count": 40,
   "metadata": {},
   "outputs": [
    {
     "data": {
      "text/plain": [
       "array([[0., 0., 0., 0., 0., 0., 0., 0., 0., 0.],\n",
       "       [0., 0., 0., 0., 0., 0., 0., 0., 0., 0.],\n",
       "       [0., 0., 0., 0., 0., 0., 0., 0., 0., 0.],\n",
       "       [0., 0., 0., 0., 0., 0., 0., 0., 0., 0.],\n",
       "       [0., 0., 0., 0., 0., 0., 0., 0., 0., 0.],\n",
       "       [0., 0., 0., 0., 0., 0., 0., 0., 0., 0.],\n",
       "       [0., 0., 0., 0., 0., 0., 0., 0., 0., 0.],\n",
       "       [0., 0., 0., 0., 0., 0., 0., 0., 0., 0.],\n",
       "       [0., 0., 0., 0., 0., 0., 0., 0., 0., 0.],\n",
       "       [0., 0., 0., 0., 0., 0., 0., 0., 0., 0.]])"
      ]
     },
     "execution_count": 40,
     "metadata": {},
     "output_type": "execute_result"
    }
   ],
   "source": [
    "np.zeros((10, 10))"
   ]
  },
  {
   "cell_type": "code",
   "execution_count": 5,
   "metadata": {},
   "outputs": [],
   "source": [
    "def langevin_eq(N_pte, N_sta, T):\n",
    "  # Code solves the Langevin equation by starting at zero configurations and\n",
    "  # establishes after N_sta realizations. In our present case, N_sta = 8000.\n",
    "  # The boundary conditions used are required to generate kinks solutions\n",
    "  dtau = 0.001\n",
    "  dx = 0.316\n",
    "  dy = 0.316\n",
    "\n",
    "  Phi = np.zeros((N_pte, N_pte)) # initial Phi conf. with N size\n",
    "\n",
    "  for n in range(0, N_sta):\n",
    "    noise = np.random.normal(loc=0.0,scale=1.0,size=N_pte) # defines noise with N size\n",
    "    for i in range(0, N_pte-1):\n",
    "      for j in range(0, N_pte-1):\n",
    "        #Phi[0] = -0.999                                      # initial condition\n",
    "        #Phi[N_pte-1] = 0.999                                 # final condition\n",
    "        Phi[i, j] = Phi[i, j] + (dtau/dx**2) * (Phi[i + 1, j] - 2 * Phi[i, j] + Phi[i - 1, j] ) \\\n",
    "        + (dtau/dy**2) * (Phi[i, j + 1] - 2 * Phi[i, j] + Phi[i, j - 1]) \n",
    "        - dtau * 2 * Phi[i] * (Phi[i]**2 -1) +  np.sqrt(2 * T * dtau) * noise[i]\n",
    "\n",
    "  return Phi"
   ]
  },
  {
   "cell_type": "code",
   "execution_count": 6,
   "metadata": {},
   "outputs": [
    {
     "ename": "KeyboardInterrupt",
     "evalue": "",
     "output_type": "error",
     "traceback": [
      "\u001b[1;31m---------------------------------------------------------------------------\u001b[0m",
      "\u001b[1;31mKeyboardInterrupt\u001b[0m                         Traceback (most recent call last)",
      "Cell \u001b[1;32mIn[6], line 7\u001b[0m\n\u001b[0;32m      4\u001b[0m x_lattice\u001b[38;5;241m=\u001b[39m np\u001b[38;5;241m.\u001b[39mlinspace(\u001b[38;5;241m-\u001b[39mN_pte\u001b[38;5;241m*\u001b[39mdx\u001b[38;5;241m/\u001b[39m\u001b[38;5;241m2\u001b[39m, N_pte\u001b[38;5;241m*\u001b[39mdx\u001b[38;5;241m/\u001b[39m\u001b[38;5;241m2\u001b[39m, N_pte) \u001b[38;5;66;03m# N size\u001b[39;00m\n\u001b[0;32m      5\u001b[0m y_lattice\u001b[38;5;241m=\u001b[39m np\u001b[38;5;241m.\u001b[39mlinspace(\u001b[38;5;241m-\u001b[39mN_pte\u001b[38;5;241m*\u001b[39mdx\u001b[38;5;241m/\u001b[39m\u001b[38;5;241m2\u001b[39m, N_pte\u001b[38;5;241m*\u001b[39mdx\u001b[38;5;241m/\u001b[39m\u001b[38;5;241m2\u001b[39m, N_pte) \u001b[38;5;66;03m# N size\u001b[39;00m\n\u001b[1;32m----> 7\u001b[0m list_phi \u001b[38;5;241m=\u001b[39m \u001b[43mlangevin_eq\u001b[49m\u001b[43m(\u001b[49m\u001b[43mN_pte\u001b[49m\u001b[43m \u001b[49m\u001b[38;5;241;43m=\u001b[39;49m\u001b[43m \u001b[49m\u001b[43mN_pte\u001b[49m\u001b[43m,\u001b[49m\u001b[43m \u001b[49m\u001b[43mN_sta\u001b[49m\u001b[43m \u001b[49m\u001b[38;5;241;43m=\u001b[39;49m\u001b[43m \u001b[49m\u001b[38;5;241;43m6000\u001b[39;49m\u001b[43m,\u001b[49m\u001b[43m \u001b[49m\u001b[43mT\u001b[49m\u001b[38;5;241;43m=\u001b[39;49m\u001b[38;5;241;43m0.0001\u001b[39;49m\u001b[43m)\u001b[49m\n\u001b[0;32m      9\u001b[0m \u001b[38;5;66;03m# # Plot the numerical solution\u001b[39;00m\n\u001b[0;32m     10\u001b[0m \u001b[38;5;66;03m# X, Y = np.meshgrid(np.linspace(0, Lx, Nx), np.linspace(0, Ly, Ny))\u001b[39;00m\n\u001b[0;32m     11\u001b[0m \u001b[38;5;66;03m# plt.figure(figsize=(8, 6))\u001b[39;00m\n\u001b[1;32m   (...)\u001b[0m\n\u001b[0;32m     16\u001b[0m \u001b[38;5;66;03m# plt.ylabel('y')\u001b[39;00m\n\u001b[0;32m     17\u001b[0m \u001b[38;5;66;03m# plt.show()\u001b[39;00m\n",
      "Cell \u001b[1;32mIn[5], line 19\u001b[0m, in \u001b[0;36mlangevin_eq\u001b[1;34m(N_pte, N_sta, T)\u001b[0m\n\u001b[0;32m     14\u001b[0m     \u001b[38;5;28;01mfor\u001b[39;00m j \u001b[38;5;129;01min\u001b[39;00m \u001b[38;5;28mrange\u001b[39m(\u001b[38;5;241m0\u001b[39m, N_pte\u001b[38;5;241m-\u001b[39m\u001b[38;5;241m1\u001b[39m):\n\u001b[0;32m     15\u001b[0m       \u001b[38;5;66;03m#Phi[0] = -0.999                                      # initial condition\u001b[39;00m\n\u001b[0;32m     16\u001b[0m       \u001b[38;5;66;03m#Phi[N_pte-1] = 0.999                                 # final condition\u001b[39;00m\n\u001b[0;32m     17\u001b[0m       Phi[i, j] \u001b[38;5;241m=\u001b[39m Phi[i, j] \u001b[38;5;241m+\u001b[39m (dtau\u001b[38;5;241m/\u001b[39mdx\u001b[38;5;241m*\u001b[39m\u001b[38;5;241m*\u001b[39m\u001b[38;5;241m2\u001b[39m) \u001b[38;5;241m*\u001b[39m (Phi[i \u001b[38;5;241m+\u001b[39m \u001b[38;5;241m1\u001b[39m, j] \u001b[38;5;241m-\u001b[39m \u001b[38;5;241m2\u001b[39m \u001b[38;5;241m*\u001b[39m Phi[i, j] \u001b[38;5;241m+\u001b[39m Phi[i \u001b[38;5;241m-\u001b[39m \u001b[38;5;241m1\u001b[39m, j] ) \\\n\u001b[0;32m     18\u001b[0m       \u001b[38;5;241m+\u001b[39m (dtau\u001b[38;5;241m/\u001b[39mdy\u001b[38;5;241m*\u001b[39m\u001b[38;5;241m*\u001b[39m\u001b[38;5;241m2\u001b[39m) \u001b[38;5;241m*\u001b[39m (Phi[i, j \u001b[38;5;241m+\u001b[39m \u001b[38;5;241m1\u001b[39m] \u001b[38;5;241m-\u001b[39m \u001b[38;5;241m2\u001b[39m \u001b[38;5;241m*\u001b[39m Phi[i, j] \u001b[38;5;241m+\u001b[39m Phi[i, j \u001b[38;5;241m-\u001b[39m \u001b[38;5;241m1\u001b[39m]) \n\u001b[1;32m---> 19\u001b[0m       \u001b[38;5;241m-\u001b[39m dtau \u001b[38;5;241m*\u001b[39m \u001b[38;5;241m2\u001b[39m \u001b[38;5;241m*\u001b[39m Phi[i] \u001b[38;5;241m*\u001b[39m (\u001b[43mPhi\u001b[49m\u001b[43m[\u001b[49m\u001b[43mi\u001b[49m\u001b[43m]\u001b[49m\u001b[38;5;241m*\u001b[39m\u001b[38;5;241m*\u001b[39m\u001b[38;5;241m2\u001b[39m \u001b[38;5;241m-\u001b[39m\u001b[38;5;241m1\u001b[39m) \u001b[38;5;241m+\u001b[39m  np\u001b[38;5;241m.\u001b[39msqrt(\u001b[38;5;241m2\u001b[39m \u001b[38;5;241m*\u001b[39m T \u001b[38;5;241m*\u001b[39m dtau) \u001b[38;5;241m*\u001b[39m noise[i]\n\u001b[0;32m     21\u001b[0m \u001b[38;5;28;01mreturn\u001b[39;00m Phi\n",
      "\u001b[1;31mKeyboardInterrupt\u001b[0m: "
     ]
    }
   ],
   "source": [
    "# Shows a configs\n",
    "N_pte = 100\n",
    "dx = 0.316\n",
    "x_lattice= np.linspace(-N_pte*dx/2, N_pte*dx/2, N_pte) # N size\n",
    "y_lattice= np.linspace(-N_pte*dx/2, N_pte*dx/2, N_pte) # N size\n",
    "\n",
    "list_phi = langevin_eq(N_pte = N_pte, N_sta = 6000, T=0.0001)"
   ]
  },
  {
   "cell_type": "code",
   "execution_count": null,
   "metadata": {},
   "outputs": [],
   "source": [
    "# Plot the numerical solution\n",
    "X, Y = np.meshgrid(np.linspace(0, Lx, Nx), np.linspace(0, Ly, Ny))\n",
    "plt.figure(figsize=(8, 6))\n",
    "plt.contourf(X, Y, phi.T, cmap='viridis')\n",
    "plt.colorbar(label='phi')\n",
    "plt.title('Numerical Solution of the Differential Equation')\n",
    "plt.xlabel('x')\n",
    "plt.ylabel('y')\n",
    "plt.show()"
   ]
  },
  {
   "cell_type": "code",
   "execution_count": 38,
   "metadata": {},
   "outputs": [
    {
     "data": {
      "image/png": "[encoded data removed]",
      "text/plain": [
       "<Figure size 400x300 with 1 Axes>"
      ]
     },
     "metadata": {},
     "output_type": "display_data"
    }
   ],
   "source": [
    "# Shows a configs\n",
    "N_pte = 100\n",
    "dx = 0.316\n",
    "x_lattice= np.linspace(-N_pte*dx/2, N_pte*dx/2, N_pte) # N size\n",
    "y_lattice= np.linspace(-N_pte*dx/2, N_pte*dx/2, N_pte) # N size\n",
    "\n",
    "plt.figure(figsize=(4, 3))\n",
    "list_phi = langevin_eq(N_pte = N_pte, N_sta = 6000, T=0.0001)\n",
    "plt.plot(x_lattice, list_phi)\n",
    "# plt.plot(x_lattice, langevin_eq(N_pte = 100, N_sta = 6000, T=0.01))\n",
    "plt.show()"
   ]
  },
  {
   "cell_type": "code",
   "execution_count": 36,
   "metadata": {},
   "outputs": [
    {
     "data": {
      "text/plain": [
       "-0.13220985150944042"
      ]
     },
     "execution_count": 36,
     "metadata": {},
     "output_type": "execute_result"
    }
   ],
   "source": [
    "np.mean(list_phi)"
   ]
  },
  {
   "cell_type": "code",
   "execution_count": 32,
   "metadata": {},
   "outputs": [
    {
     "data": {
      "text/plain": [
       "array([ 0.30644792,  0.55780872,  0.73938285,  0.8485524 ,  0.91639709,\n",
       "        0.95718305,  0.97428012,  0.98457764,  0.99350858,  0.99008945,\n",
       "        0.99414012,  0.98739207,  0.97545307,  0.95894546,  0.92697212,\n",
       "        0.86490781,  0.75932319,  0.5840305 ,  0.33774224,  0.03290661,\n",
       "       -0.27794294, -0.54086457, -0.72956608, -0.84900283, -0.91240978,\n",
       "       -0.95216291, -0.97298688, -0.98377252, -0.98563585, -0.98392404,\n",
       "       -0.97526263, -0.96123832, -0.93122772, -0.87590694, -0.77908446,\n",
       "       -0.62821031, -0.40370719, -0.1088799 ,  0.20642273,  0.48621155,\n",
       "        0.68620045,  0.81899719,  0.89784975,  0.94165804,  0.96650253,\n",
       "        0.98192992,  0.99100115,  0.99531949,  0.99533484,  0.99521744,\n",
       "        0.9956031 ,  0.99725381,  0.996654  ,  0.99733395,  0.99941067,\n",
       "        1.00051637,  1.00003149,  0.99888918,  0.99840961,  1.00211215,\n",
       "        1.00259703,  1.00219703,  1.00033414,  1.00435287,  1.00401887,\n",
       "        1.00141714,  0.99681273,  1.00062423,  0.99623758,  0.98618149,\n",
       "        0.97570452,  0.95538034,  0.91739249,  0.85551452,  0.74703168,\n",
       "        0.56846228,  0.3142955 ,  0.01096011, -0.30648372, -0.56602605,\n",
       "       -0.74282144, -0.85370066, -0.92156042, -0.96026105, -0.97894539,\n",
       "       -0.98766868, -0.99018017, -0.99451742, -0.99810264, -0.99986966,\n",
       "       -0.99470229, -0.9860896 , -0.97414539, -0.94805453, -0.91732624,\n",
       "       -0.85513761, -0.74428461, -0.56556875, -0.31032556,  0.        ])"
      ]
     },
     "execution_count": 32,
     "metadata": {},
     "output_type": "execute_result"
    }
   ],
   "source": [
    "list_phi"
   ]
  },
  {
   "cell_type": "code",
   "execution_count": null,
   "metadata": {},
   "outputs": [],
   "source": []
  }
 ],
 "metadata": {
  "kernelspec": {
   "display_name": "venv",
   "language": "python",
   "name": "python3"
  },
  "language_info": {
   "codemirror_mode": {
    "name": "ipython",
    "version": 3
   },
   "file_extension": ".py",
   "mimetype": "text/x-python",
   "name": "python",
   "nbconvert_exporter": "python",
   "pygments_lexer": "ipython3",
   "version": "3.9.12"
  }
 },
 "nbformat": 4,
 "nbformat_minor": 2
}
