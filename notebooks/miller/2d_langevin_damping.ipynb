{
  "cells": [
    {
      "cell_type": "code",
      "execution_count": 2,
      "metadata": {},
      "outputs": [],
      "source": [
        "import matplotlib.pyplot as plt\n",
        "import torch.sparse as sp\n",
        "from scipy.sparse import lil_matrix\n",
        "import torch\n",
        "from paramets import *\n",
        "import numpy as np\n",
        "from tqdm import tqdm"
      ]
    },
    {
      "cell_type": "markdown",
      "metadata": {},
      "source": [
        "## Helper Functions"
      ]
    },
    {
      "cell_type": "code",
      "execution_count": 3,
      "metadata": {},
      "outputs": [
        {
          "data": {
            "text/plain": [
              "0.5488116360940265"
            ]
          },
          "execution_count": 3,
          "metadata": {},
          "output_type": "execute_result"
        }
      ],
      "source": [
        "alpha = 2\n",
        "damping = lambda T: np.exp(-alpha*T)\n",
        "damping(0.3)"
      ]
    },
    {
      "cell_type": "markdown",
      "metadata": {
        "id": "dKMP6BShVEP6"
      },
      "source": [
        "## Rewrite the original code using torch"
      ]
    },
    {
      "cell_type": "code",
      "execution_count": 4,
      "metadata": {
        "id": "UTrVkbBKT7_5"
      },
      "outputs": [],
      "source": [
        "# Ng, Tf = 64, 10001\n",
        "\n",
        "def laplacian(n):\n",
        "    # Total number of grid points\n",
        "    total_points = n * n\n",
        "    matrix_laplacian = lil_matrix((total_points, total_points))\n",
        "    \n",
        "    # Fill the matrix based on finite difference method for Laplacian\n",
        "    for i in range(n):\n",
        "        for j in range(n):\n",
        "            row = i * n + j  # Current grid point\n",
        "            # Diagonal element\n",
        "            matrix_laplacian[row, row] = 4\n",
        "            # Check and update neighbors (left, right, up, down)\n",
        "            if i > 0:\n",
        "                matrix_laplacian[row, (i - 1) * n + j] = -1  # Up\n",
        "            if i < n - 1:\n",
        "                matrix_laplacian[row, (i + 1) * n + j] = -1  # Down\n",
        "            if j > 0:\n",
        "                matrix_laplacian[row, i * n + (j - 1)] = -1  # Left\n",
        "            if j < n - 1:\n",
        "                matrix_laplacian[row, i * n + (j + 1)] = -1  # Right\n",
        "    \n",
        "    # Convert to CSR format for efficient arithmetic operations\n",
        "    \n",
        "    matrix_laplacian = matrix_laplacian.tocsr()\n",
        "    matrix_laplacian = -matrix_laplacian\n",
        "\n",
        "    # Extract coordinates and values\n",
        "    row_indices = []\n",
        "    col_indices = []\n",
        "    values = []\n",
        "\n",
        "    for row in range(matrix_laplacian.shape[0]):\n",
        "        start = matrix_laplacian.indptr[row]\n",
        "        end = matrix_laplacian.indptr[row + 1]\n",
        "        row_indices.extend([row] * (end - start))\n",
        "        col_indices.extend(matrix_laplacian.indices[start:end])\n",
        "        values.extend(matrix_laplacian.data[start:end])\n",
        "    \n",
        "    # convert to coo_matrix\n",
        "    coo_matrix = torch.sparse_coo_tensor(\n",
        "                torch.tensor([row_indices, col_indices], dtype=torch.int64),\n",
        "                torch.tensor(values, dtype=torch.float32),\n",
        "                torch.Size((n*n,n*n))\n",
        "                )\n",
        "    return coo_matrix\n",
        "\n",
        "master_list = []\n",
        "def integrate(L, u, T):\n",
        "    '''  simulates the equation and plots it at different instants '''\n",
        "    T = torch.tensor([T], device='cpu')\n",
        "    for i in range(Tf.item()):\n",
        "        noise = torch.normal(mean=0.0, std=1.0, size=(Ng * Ng, 1), device='cpu')\n",
        "        u = u - (dt/damping(T)) * (a * u + b * u * u * u - c - k * torch.mm(L, u)) + (torch.sqrt(2 * T * dt)/damping(T)) * noise  # Euler's method\n",
        "        if (i==10000):\n",
        "            master_list.append(u)"
      ]
    },
    {
      "cell_type": "markdown",
      "metadata": {},
      "source": [
        "## Calculate the mean of configurations"
      ]
    },
    {
      "cell_type": "code",
      "execution_count": 5,
      "metadata": {},
      "outputs": [],
      "source": [
        "def avg_realizations(master_list, Ng):\n",
        "    \"\"\" Evaluate the average over the configurations (realizations)\"\"\"\n",
        "    mean_config = []\n",
        "    size = len(master_list)\n",
        "    N = Ng*Ng\n",
        "    temp = 0\n",
        "    for point in tqdm(range(N), desc=\"Processing\", ncols=100, ascii=True):\n",
        "        for config in range(size):\n",
        "            temp += master_list[config][point]\n",
        "        mean_config.append(temp/size)\n",
        "        temp = 0\n",
        "    mean_config = torch.tensor(mean_config)\n",
        "    mean_config = mean_config.view((Ng, Ng))\n",
        "    plt.figure(figsize=(4, 3))\n",
        "    plt.imshow(mean_config)\n",
        "    plt.show()\n",
        "    return mean_config\n",
        "\n",
        "# mean_config = avg_realizations(master_list, Ng)\n",
        "# plt.imshow(mean_config)\n",
        "# plt.show()"
      ]
    },
    {
      "cell_type": "code",
      "execution_count": 6,
      "metadata": {},
      "outputs": [],
      "source": [
        "def avg_final(mean_config, Ng):\n",
        "    sum = 0 \n",
        "    for x in range(Ng):\n",
        "        for y in range(Ng):\n",
        "            sum = sum + mean_config[x][y]\n",
        "    return sum / (Ng*Ng)\n",
        "\n",
        "# media_final(mean_config, Ng)"
      ]
    },
    {
      "cell_type": "markdown",
      "metadata": {},
      "source": [
        "## RUN PIPELINE"
      ]
    },
    {
      "cell_type": "code",
      "execution_count": 7,
      "metadata": {},
      "outputs": [
        {
          "name": "stderr",
          "output_type": "stream",
          "text": [
            "c:\\Users\\mille\\Documents\\CloneGit\\ising-models\\venv\\lib\\site-packages\\torch\\functional.py:504: UserWarning: torch.meshgrid: in an upcoming release, it will be required to pass the indexing argument. (Triggered internally at C:\\actions-runner\\_work\\pytorch\\pytorch\\builder\\windows\\pytorch\\aten\\src\\ATen\\native\\TensorShape.cpp:3527.)\n",
            "  return _VF.meshgrid(tensors, **kwargs)  # type: ignore[attr-defined]\n"
          ]
        }
      ],
      "source": [
        "# generate the grid and initialise the field\n",
        "\n",
        "## define o dispositivo cuda a ser utilizado\n",
        "\n",
        "device = torch.device('cpu')\n",
        "\n",
        "x = torch.linspace(-1, 1, Ng)\n",
        "y = torch.linspace(-1, 1, Ng)\n",
        "X, Y = torch.meshgrid(x, y)\n",
        "\n",
        "## simula 100 configurações finais com os parametros iniciais\n",
        "L = laplacian(Ng)\n",
        "L = L.to(device)         # construct the laplacian\n",
        "N_real = 50\n",
        "\n",
        "list_vev = []\n",
        "# list_temperature = [0.01, 5]"
      ]
    },
    {
      "cell_type": "code",
      "execution_count": null,
      "metadata": {},
      "outputs": [],
      "source": [
        "# for T in list_temperature:\n",
        "#   print(f\"---------------- Temperature: {T} --------------------- \")\n",
        "#   for realization in tqdm(range(N_real), desc=\"Processing\", ncols=100, ascii=True):\n",
        "#     u = torch.randn(Ng * Ng, 1, device=device)  # Initial data\n",
        "#     integrate(L, u, T)    # simulate\n",
        "#     # if realization % 10 ==0:\n",
        "#       # print(f'Realization: {realization}')\n",
        "\n",
        "#   mean_config = avg_realizations(master_list, Ng)\n",
        "#   VEV = avg_final(mean_config, Ng)\n",
        "#   list_vev.append(VEV)"
      ]
    },
    {
      "cell_type": "code",
      "execution_count": 8,
      "metadata": {},
      "outputs": [
        {
          "name": "stdout",
          "output_type": "stream",
          "text": [
            "---------------- Temperature: 0.01 --------------------- \n"
          ]
        },
        {
          "name": "stderr",
          "output_type": "stream",
          "text": [
            "Processing:   0%|                                                            | 0/50 [00:00<?, ?it/s]"
          ]
        },
        {
          "name": "stderr",
          "output_type": "stream",
          "text": [
            "Processing: 100%|###################################################| 50/50 [08:41<00:00, 10.43s/it]\n",
            "Processing: 100%|#############################################| 4096/4096 [00:01<00:00, 2156.55it/s]\n"
          ]
        },
        {
          "data": {
            "image/png": "[encoded data removed]",
            "text/plain": [
              "<Figure size 400x300 with 1 Axes>"
            ]
          },
          "metadata": {},
          "output_type": "display_data"
        },
        {
          "name": "stdout",
          "output_type": "stream",
          "text": [
            "---------------- Temperature: 1.6755555555555557 --------------------- \n"
          ]
        },
        {
          "name": "stderr",
          "output_type": "stream",
          "text": [
            "Processing: 100%|###################################################| 50/50 [07:49<00:00,  9.39s/it]\n",
            "Processing: 100%|#############################################| 4096/4096 [00:03<00:00, 1034.50it/s]\n"
          ]
        },
        {
          "data": {
            "image/png": "[encoded data removed]",
            "text/plain": [
              "<Figure size 400x300 with 1 Axes>"
            ]
          },
          "metadata": {},
          "output_type": "display_data"
        },
        {
          "name": "stdout",
          "output_type": "stream",
          "text": [
            "---------------- Temperature: 3.341111111111111 --------------------- \n"
          ]
        },
        {
          "name": "stderr",
          "output_type": "stream",
          "text": [
            "Processing: 100%|###################################################| 50/50 [06:52<00:00,  8.25s/it]\n",
            "Processing: 100%|##############################################| 4096/4096 [00:04<00:00, 991.23it/s]\n"
          ]
        },
        {
          "data": {
            "image/png": "[encoded data removed]",
            "text/plain": [
              "<Figure size 400x300 with 1 Axes>"
            ]
          },
          "metadata": {},
          "output_type": "display_data"
        },
        {
          "name": "stdout",
          "output_type": "stream",
          "text": [
            "---------------- Temperature: 5.006666666666667 --------------------- \n"
          ]
        },
        {
          "name": "stderr",
          "output_type": "stream",
          "text": [
            "Processing:   0%|                                                            | 0/50 [00:04<?, ?it/s]\n"
          ]
        },
        {
          "ename": "KeyboardInterrupt",
          "evalue": "",
          "output_type": "error",
          "traceback": [
            "\u001b[1;31m---------------------------------------------------------------------------\u001b[0m",
            "\u001b[1;31mKeyboardInterrupt\u001b[0m                         Traceback (most recent call last)",
            "\u001b[1;32mc:\\Users\\mille\\Documents\\CloneGit\\ising-models\\notebooks\\miller\\2d_langevin_damping.ipynb Cell 12\u001b[0m line \u001b[0;36m6\n\u001b[0;32m      <a href='vscode-notebook-cell:/c%3A/Users/mille/Documents/CloneGit/ising-models/notebooks/miller/2d_langevin_damping.ipynb#X14sZmlsZQ%3D%3D?line=3'>4</a>\u001b[0m \u001b[39mfor\u001b[39;00m realization \u001b[39min\u001b[39;00m tqdm(\u001b[39mrange\u001b[39m(N_real), desc\u001b[39m=\u001b[39m\u001b[39m\"\u001b[39m\u001b[39mProcessing\u001b[39m\u001b[39m\"\u001b[39m, ncols\u001b[39m=\u001b[39m\u001b[39m100\u001b[39m, ascii\u001b[39m=\u001b[39m\u001b[39mTrue\u001b[39;00m):\n\u001b[0;32m      <a href='vscode-notebook-cell:/c%3A/Users/mille/Documents/CloneGit/ising-models/notebooks/miller/2d_langevin_damping.ipynb#X14sZmlsZQ%3D%3D?line=4'>5</a>\u001b[0m   u \u001b[39m=\u001b[39m torch\u001b[39m.\u001b[39mrandn(Ng \u001b[39m*\u001b[39m Ng, \u001b[39m1\u001b[39m, device\u001b[39m=\u001b[39mdevice)  \u001b[39m# Initial data\u001b[39;00m\n\u001b[1;32m----> <a href='vscode-notebook-cell:/c%3A/Users/mille/Documents/CloneGit/ising-models/notebooks/miller/2d_langevin_damping.ipynb#X14sZmlsZQ%3D%3D?line=5'>6</a>\u001b[0m   integrate(L, u, T)    \u001b[39m# simulate\u001b[39;00m\n\u001b[0;32m      <a href='vscode-notebook-cell:/c%3A/Users/mille/Documents/CloneGit/ising-models/notebooks/miller/2d_langevin_damping.ipynb#X14sZmlsZQ%3D%3D?line=6'>7</a>\u001b[0m   \u001b[39m# if realization % 10 ==0:\u001b[39;00m\n\u001b[0;32m      <a href='vscode-notebook-cell:/c%3A/Users/mille/Documents/CloneGit/ising-models/notebooks/miller/2d_langevin_damping.ipynb#X14sZmlsZQ%3D%3D?line=7'>8</a>\u001b[0m     \u001b[39m# print(f'Realization: {realization}')\u001b[39;00m\n\u001b[0;32m     <a href='vscode-notebook-cell:/c%3A/Users/mille/Documents/CloneGit/ising-models/notebooks/miller/2d_langevin_damping.ipynb#X14sZmlsZQ%3D%3D?line=9'>10</a>\u001b[0m mean_config \u001b[39m=\u001b[39m avg_realizations(master_list, Ng)\n",
            "\u001b[1;32mc:\\Users\\mille\\Documents\\CloneGit\\ising-models\\notebooks\\miller\\2d_langevin_damping.ipynb Cell 12\u001b[0m line \u001b[0;36m5\n\u001b[0;32m     <a href='vscode-notebook-cell:/c%3A/Users/mille/Documents/CloneGit/ising-models/notebooks/miller/2d_langevin_damping.ipynb#X14sZmlsZQ%3D%3D?line=52'>53</a>\u001b[0m \u001b[39mfor\u001b[39;00m i \u001b[39min\u001b[39;00m \u001b[39mrange\u001b[39m(Tf\u001b[39m.\u001b[39mitem()):\n\u001b[0;32m     <a href='vscode-notebook-cell:/c%3A/Users/mille/Documents/CloneGit/ising-models/notebooks/miller/2d_langevin_damping.ipynb#X14sZmlsZQ%3D%3D?line=53'>54</a>\u001b[0m     noise \u001b[39m=\u001b[39m torch\u001b[39m.\u001b[39mnormal(mean\u001b[39m=\u001b[39m\u001b[39m0.0\u001b[39m, std\u001b[39m=\u001b[39m\u001b[39m1.0\u001b[39m, size\u001b[39m=\u001b[39m(Ng \u001b[39m*\u001b[39m Ng, \u001b[39m1\u001b[39m), device\u001b[39m=\u001b[39m\u001b[39m'\u001b[39m\u001b[39mcpu\u001b[39m\u001b[39m'\u001b[39m)\n\u001b[1;32m---> <a href='vscode-notebook-cell:/c%3A/Users/mille/Documents/CloneGit/ising-models/notebooks/miller/2d_langevin_damping.ipynb#X14sZmlsZQ%3D%3D?line=54'>55</a>\u001b[0m     u \u001b[39m=\u001b[39m u \u001b[39m-\u001b[39m (dt\u001b[39m/\u001b[39mdamping(T)) \u001b[39m*\u001b[39m (a \u001b[39m*\u001b[39m u \u001b[39m+\u001b[39m b \u001b[39m*\u001b[39m u \u001b[39m*\u001b[39m u \u001b[39m*\u001b[39m u \u001b[39m-\u001b[39m c \u001b[39m-\u001b[39m k \u001b[39m*\u001b[39m torch\u001b[39m.\u001b[39;49mmm(L, u)) \u001b[39m+\u001b[39m (torch\u001b[39m.\u001b[39msqrt(\u001b[39m2\u001b[39m \u001b[39m*\u001b[39m T \u001b[39m*\u001b[39m dt)\u001b[39m/\u001b[39mdamping(T)) \u001b[39m*\u001b[39m noise  \u001b[39m# Euler's method\u001b[39;00m\n\u001b[0;32m     <a href='vscode-notebook-cell:/c%3A/Users/mille/Documents/CloneGit/ising-models/notebooks/miller/2d_langevin_damping.ipynb#X14sZmlsZQ%3D%3D?line=55'>56</a>\u001b[0m     \u001b[39mif\u001b[39;00m (i\u001b[39m==\u001b[39m\u001b[39m10000\u001b[39m):\n\u001b[0;32m     <a href='vscode-notebook-cell:/c%3A/Users/mille/Documents/CloneGit/ising-models/notebooks/miller/2d_langevin_damping.ipynb#X14sZmlsZQ%3D%3D?line=56'>57</a>\u001b[0m         master_list\u001b[39m.\u001b[39mappend(u)\n",
            "\u001b[1;31mKeyboardInterrupt\u001b[0m: "
          ]
        }
      ],
      "source": [
        "for T in np.linspace(0.01, 15, num=10):\n",
        "  T = float(T)\n",
        "  print(f\"---------------- Temperature: {T} --------------------- \")\n",
        "  for realization in tqdm(range(N_real), desc=\"Processing\", ncols=100, ascii=True):\n",
        "    u = torch.randn(Ng * Ng, 1, device=device)  # Initial data\n",
        "    integrate(L, u, T)    # simulate\n",
        "    # if realization % 10 ==0:\n",
        "      # print(f'Realization: {realization}')\n",
        "\n",
        "  mean_config = avg_realizations(master_list, Ng)\n",
        "  VEV = avg_final(mean_config, Ng)\n",
        "  list_vev.append(VEV)"
      ]
    },
    {
      "cell_type": "code",
      "execution_count": 8,
      "metadata": {},
      "outputs": [
        {
          "data": {
            "text/plain": [
              "[tensor(0.9988),\n",
              " tensor(0.6458),\n",
              " tensor(0.4686),\n",
              " tensor(0.3724),\n",
              " tensor(0.3102),\n",
              " tensor(0.2666),\n",
              " tensor(0.2343),\n",
              " tensor(0.2086),\n",
              " tensor(0.1888),\n",
              " tensor(0.1730)]"
            ]
          },
          "execution_count": 8,
          "metadata": {},
          "output_type": "execute_result"
        }
      ],
      "source": [
        "list_vev"
      ]
    },
    {
      "cell_type": "code",
      "execution_count": 11,
      "metadata": {},
      "outputs": [
        {
          "data": {
            "text/plain": [
              "[0.01,\n",
              " 1.6755555555555557,\n",
              " 3.341111111111111,\n",
              " 5.006666666666667,\n",
              " 6.6722222222222225,\n",
              " 8.337777777777779,\n",
              " 10.003333333333334,\n",
              " 11.668888888888889,\n",
              " 13.334444444444445,\n",
              " 15.0]"
            ]
          },
          "execution_count": 11,
          "metadata": {},
          "output_type": "execute_result"
        }
      ],
      "source": [
        "list_T = np.linspace(0.01, 15, num=10)[:10]\n",
        "list_T = list(list_T)\n",
        "list_T"
      ]
    },
    {
      "cell_type": "code",
      "execution_count": 12,
      "metadata": {},
      "outputs": [
        {
          "data": {
            "image/png": "[encoded data removed]",
            "text/plain": [
              "<Figure size 640x480 with 1 Axes>"
            ]
          },
          "metadata": {},
          "output_type": "display_data"
        }
      ],
      "source": [
        "\n",
        "plt.plot(list_T, list_vev)\n",
        "plt.show()"
      ]
    },
    {
      "cell_type": "code",
      "execution_count": null,
      "metadata": {},
      "outputs": [],
      "source": [
        "list_temperature = np.linspace(0.01, 15, num=30)"
      ]
    },
    {
      "cell_type": "code",
      "execution_count": null,
      "metadata": {},
      "outputs": [],
      "source": []
    }
  ],
  "metadata": {
    "accelerator": "GPU",
    "colab": {
      "gpuType": "T4",
      "provenance": []
    },
    "kernelspec": {
      "display_name": "Python 3",
      "name": "python3"
    },
    "language_info": {
      "codemirror_mode": {
        "name": "ipython",
        "version": 3
      },
      "file_extension": ".py",
      "mimetype": "text/x-python",
      "name": "python",
      "nbconvert_exporter": "python",
      "pygments_lexer": "ipython3",
      "version": "3.9.12"
    }
  },
  "nbformat": 4,
  "nbformat_minor": 0
}
