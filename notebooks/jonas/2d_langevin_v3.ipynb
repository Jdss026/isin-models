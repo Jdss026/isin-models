{
  "cells": [
    {
      "cell_type": "code",
      "execution_count": 61,
      "metadata": {},
      "outputs": [],
      "source": [
        "import matplotlib.pyplot as plt\n",
        "import torch.sparse as sp\n",
        "from scipy.sparse import lil_matrix\n",
        "import torch\n",
        "# from paramets import *\n",
        "# import json\n",
        "from tqdm import tqdm"
      ]
    },
    {
      "cell_type": "code",
      "execution_count": 62,
      "metadata": {},
      "outputs": [],
      "source": [
        "a, b, k = -1.0, 1.0, 100.0 #configuração: (a<0, b>0) ou (a>0, b>0)\n",
        "dh, dt = 1.0, 1e-3\n",
        "Ng, Tf = 16, 10001\n",
        "\n",
        "a = torch.tensor(a, device='cpu')\n",
        "b = torch.tensor(b, device='cpu')\n",
        "k = torch.tensor(k, device='cpu')\n",
        "dh = torch.tensor(dh, device='cpu')\n",
        "dt = torch.tensor(dt, device='cpu')\n",
        "Ng = torch.tensor(Ng, device='cpu')\n",
        "Tf = torch.tensor(Tf, device='cpu')"
      ]
    },
    {
      "cell_type": "markdown",
      "metadata": {
        "id": "dKMP6BShVEP6"
      },
      "source": [
        "## Rewrite the original code using torch"
      ]
    },
    {
      "cell_type": "code",
      "execution_count": 63,
      "metadata": {
        "id": "UTrVkbBKT7_5"
      },
      "outputs": [],
      "source": [
        "# Ng, Tf = 64, 10001\n",
        "\n",
        "def laplacian(n):\n",
        "    # Total number of grid points\n",
        "    total_points = n * n\n",
        "\n",
        "    matrix_laplacian = lil_matrix((total_points, total_points))\n",
        "    \n",
        "    # Fill the matrix based on finite difference method for Laplacian\n",
        "    for i in range(n):\n",
        "        for j in range(n):\n",
        "            row = i * n + j  # Current grid point\n",
        "            \n",
        "            # Diagonal element\n",
        "            matrix_laplacian[row, row] = 4\n",
        "            \n",
        "            # Check and update neighbors (left, right, up, down)\n",
        "            if i > 0:\n",
        "                matrix_laplacian[row, (i - 1) * n + j] = -1  # Up\n",
        "            if i < n - 1:\n",
        "                matrix_laplacian[row, (i + 1) * n + j] = -1  # Down\n",
        "            if j > 0:\n",
        "                matrix_laplacian[row, i * n + (j - 1)] = -1  # Left\n",
        "            if j < n - 1:\n",
        "                matrix_laplacian[row, i * n + (j + 1)] = -1  # Right\n",
        "    \n",
        "    # Convert to CSR format for efficient arithmetic operations\n",
        "    \n",
        "    matrix_laplacian = matrix_laplacian.tocsr()\n",
        "    matrix_laplacian = -matrix_laplacian\n",
        "\n",
        "    # Extract coordinates and values\n",
        "    row_indices = []\n",
        "    col_indices = []\n",
        "    values = []\n",
        "\n",
        "    for row in range(matrix_laplacian.shape[0]):\n",
        "        start = matrix_laplacian.indptr[row]\n",
        "        end = matrix_laplacian.indptr[row + 1]\n",
        "        row_indices.extend([row] * (end - start))\n",
        "        col_indices.extend(matrix_laplacian.indices[start:end])\n",
        "        values.extend(matrix_laplacian.data[start:end])\n",
        "    \n",
        "    # convert to coo_matrix\n",
        "    coo_matrix = torch.sparse_coo_tensor(\n",
        "                torch.tensor([row_indices, col_indices], dtype=torch.int64),\n",
        "                torch.tensor(values, dtype=torch.float32),\n",
        "                torch.Size((n*n,n*n))\n",
        "                )\n",
        "    return coo_matrix\n",
        "\n",
        "master_list = []\n",
        "def integrate(L, u, T):\n",
        "    '''  simulates the equation and plots it at different instants '''\n",
        "    T = torch.tensor([T], device='cpu')\n",
        "    for i in range(Tf.item()):\n",
        "        noise = torch.normal(mean=0.0, std=1.0, size=(Ng * Ng, 1), device='cpu')\n",
        "        u = u - dt * (a * u + b * u * u * u - k * torch.mm(L, u)) + torch.sqrt(2 * T * dt) * noise  # Euler's method\n",
        "        if (i==10000):\n",
        "            master_list.append(u)"
      ]
    },
    {
      "cell_type": "markdown",
      "metadata": {},
      "source": [
        "## Calculate the mean of configurations"
      ]
    },
    {
      "cell_type": "code",
      "execution_count": 64,
      "metadata": {},
      "outputs": [],
      "source": [
        "def avg_realizations(master_list, Ng):\n",
        "    \"\"\" Evaluate the average over the configurations (realizations)\"\"\"\n",
        "    mean_config = []\n",
        "    size = len(master_list)\n",
        "    N = Ng*Ng\n",
        "    temp = 0\n",
        "    for point in tqdm(range(N), desc=\"Processing\", ncols=100, ascii=True):\n",
        "        for config in range(size):\n",
        "            temp += master_list[config][point]\n",
        "        mean_config.append(temp/size)\n",
        "        temp = 0\n",
        "    mean_config = torch.tensor(mean_config)\n",
        "    mean_config = mean_config.view((Ng, Ng))\n",
        "    return mean_config\n",
        "\n",
        "# mean_config = avg_realizations(master_list, Ng)\n",
        "# plt.imshow(mean_config)\n",
        "# plt.show()"
      ]
    },
    {
      "cell_type": "code",
      "execution_count": 65,
      "metadata": {},
      "outputs": [],
      "source": [
        "def avg_final(mean_config, Ng):\n",
        "    sum = 0 \n",
        "    for x in range(Ng):\n",
        "        for y in range(Ng):\n",
        "            sum = sum + mean_config[x][y]\n",
        "    return sum / (Ng*Ng)\n",
        "\n",
        "# media_final(mean_config, Ng)"
      ]
    },
    {
      "cell_type": "markdown",
      "metadata": {},
      "source": [
        "## RUN PIPELINE"
      ]
    },
    {
      "cell_type": "code",
      "execution_count": 66,
      "metadata": {},
      "outputs": [
        {
          "name": "stderr",
          "output_type": "stream",
          "text": [
            "Processing:   0%|                                                            | 0/50 [00:00<?, ?it/s]"
          ]
        },
        {
          "name": "stderr",
          "output_type": "stream",
          "text": [
            "Processing: 100%|###############################################| 256/256 [00:00<00:00, 6918.22it/s]\n",
            "Processing: 100%|###############################################| 256/256 [00:00<00:00, 4491.31it/s]\n",
            "Processing: 100%|###############################################| 256/256 [00:00<00:00, 3159.03it/s]\n",
            "Processing: 100%|###############################################| 256/256 [00:00<00:00, 2326.79it/s]\n",
            "Processing: 100%|###############################################| 256/256 [00:00<00:00, 1684.25it/s]\n",
            "Processing: 100%|###############################################| 256/256 [00:00<00:00, 1570.65it/s]\n",
            "Processing: 100%|###############################################| 256/256 [00:00<00:00, 1398.63it/s]\n",
            "Processing: 100%|###############################################| 256/256 [00:00<00:00, 1142.69it/s]\n",
            "Processing: 100%|################################################| 256/256 [00:00<00:00, 930.91it/s]\n",
            "Processing: 100%|################################################| 256/256 [00:00<00:00, 937.73it/s]\n",
            "Processing: 100%|################################################| 256/256 [00:00<00:00, 752.94it/s]\n",
            "Processing: 100%|################################################| 256/256 [00:00<00:00, 670.16it/s]\n",
            "Processing: 100%|################################################| 256/256 [00:00<00:00, 501.96it/s]\n",
            "Processing: 100%|################################################| 256/256 [00:00<00:00, 498.06it/s]\n",
            "Processing: 100%|################################################| 256/256 [00:00<00:00, 515.09it/s]\n",
            "Processing: 100%|################################################| 256/256 [00:00<00:00, 442.14it/s]\n",
            "Processing: 100%|################################################| 256/256 [00:00<00:00, 398.13it/s]\n",
            "Processing: 100%|################################################| 256/256 [00:00<00:00, 337.73it/s]\n",
            "Processing: 100%|################################################| 256/256 [00:00<00:00, 294.59it/s]\n",
            "Processing: 100%|################################################| 256/256 [00:00<00:00, 383.81it/s]\n",
            "Processing: 100%|################################################| 256/256 [00:00<00:00, 306.22it/s]\n",
            "Processing: 100%|################################################| 256/256 [00:00<00:00, 286.03it/s]\n",
            "Processing: 100%|################################################| 256/256 [00:00<00:00, 316.43it/s]\n",
            "Processing: 100%|################################################| 256/256 [00:00<00:00, 357.04it/s]\n",
            "Processing: 100%|################################################| 256/256 [00:00<00:00, 327.65it/s]\n",
            "Processing: 100%|################################################| 256/256 [00:01<00:00, 234.22it/s]\n",
            "Processing: 100%|################################################| 256/256 [00:00<00:00, 266.39it/s]\n",
            "Processing: 100%|################################################| 256/256 [00:00<00:00, 318.80it/s]\n",
            "Processing: 100%|################################################| 256/256 [00:01<00:00, 217.13it/s]\n",
            "Processing: 100%|################################################| 256/256 [00:00<00:00, 279.48it/s]\n",
            "Processing: 100%|################################################| 256/256 [00:00<00:00, 284.75it/s]\n",
            "Processing: 100%|################################################| 256/256 [00:00<00:00, 277.36it/s]\n",
            "Processing: 100%|################################################| 256/256 [00:00<00:00, 266.11it/s]\n",
            "Processing: 100%|################################################| 256/256 [00:00<00:00, 256.51it/s]\n",
            "Processing: 100%|################################################| 256/256 [00:01<00:00, 237.92it/s]\n",
            "Processing: 100%|################################################| 256/256 [00:01<00:00, 222.80it/s]\n",
            "Processing: 100%|################################################| 256/256 [00:01<00:00, 228.57it/s]\n",
            "Processing: 100%|################################################| 256/256 [00:01<00:00, 225.38it/s]\n",
            "Processing: 100%|################################################| 256/256 [00:01<00:00, 218.24it/s]\n",
            "Processing: 100%|#################################################| 256/256 [00:03<00:00, 82.71it/s]\n",
            "Processing: 100%|################################################| 256/256 [00:01<00:00, 212.98it/s]\n",
            "Processing: 100%|################################################| 256/256 [00:01<00:00, 211.92it/s]\n",
            "Processing: 100%|################################################| 256/256 [00:01<00:00, 197.68it/s]\n",
            "Processing: 100%|################################################| 256/256 [00:01<00:00, 200.78it/s]\n",
            "Processing: 100%|################################################| 256/256 [00:01<00:00, 198.60it/s]\n",
            "Processing: 100%|################################################| 256/256 [00:01<00:00, 185.85it/s]\n",
            "Processing: 100%|################################################| 256/256 [00:01<00:00, 182.16it/s]\n",
            "Processing: 100%|################################################| 256/256 [00:01<00:00, 138.68it/s]\n",
            "Processing: 100%|################################################| 256/256 [00:01<00:00, 146.60it/s]\n",
            "Processing: 100%|################################################| 256/256 [00:01<00:00, 129.03it/s]\n",
            "Processing: 100%|###################################################| 50/50 [21:32<00:00, 25.85s/it]\n"
          ]
        }
      ],
      "source": [
        "# generate the grid and initialise the field\n",
        "\n",
        "## define o dispositivo cuda a ser utilizado\n",
        "\n",
        "device = torch.device('cpu')\n",
        "\n",
        "x = torch.linspace(-1, 1, Ng)\n",
        "y = torch.linspace(-1, 1, Ng)\n",
        "X, Y = torch.meshgrid(x, y)\n",
        "\n",
        "## simula 100 configurações finais com os parametros iniciais\n",
        "L = laplacian(Ng)\n",
        "L = L.to(device)         # construct the laplacian\n",
        "N_real = 20\n",
        "\n",
        "list_vev = []\n",
        "for T in tqdm(range(0,50,1), desc=\"Processing\", ncols=100, ascii=True):\n",
        "  for realization in range(N_real):\n",
        "    u = torch.randn(Ng * Ng, 1, device=device)  # Initial data\n",
        "    integrate(L, u, T)    # simulate\n",
        "\n",
        "  mean_config = avg_realizations(master_list, Ng)\n",
        "  VEV = avg_final(mean_config, Ng)\n",
        "  list_vev.append(VEV)"
      ]
    },
    {
      "cell_type": "code",
      "execution_count": 67,
      "metadata": {},
      "outputs": [],
      "source": [
        "T = range(0,50, 1)"
      ]
    },
    {
      "cell_type": "code",
      "execution_count": 68,
      "metadata": {},
      "outputs": [
        {
          "data": {
            "text/plain": [
              "[<matplotlib.lines.Line2D at 0x22943a47bd0>]"
            ]
          },
          "execution_count": 68,
          "metadata": {},
          "output_type": "execute_result"
        },
        {
          "data": {
            "image/png": "[encoded data removed]",
            "text/plain": [
              "<Figure size 640x480 with 1 Axes>"
            ]
          },
          "metadata": {},
          "output_type": "display_data"
        }
      ],
      "source": [
        "plt.plot(T, list_vev)"
      ]
    },
    {
      "cell_type": "code",
      "execution_count": null,
      "metadata": {},
      "outputs": [],
      "source": []
    }
  ],
  "metadata": {
    "accelerator": "GPU",
    "colab": {
      "gpuType": "T4",
      "provenance": []
    },
    "kernelspec": {
      "display_name": "Python 3",
      "name": "python3"
    },
    "language_info": {
      "codemirror_mode": {
        "name": "ipython",
        "version": 3
      },
      "file_extension": ".py",
      "mimetype": "text/x-python",
      "name": "python",
      "nbconvert_exporter": "python",
      "pygments_lexer": "ipython3",
      "version": "3.11.5"
    }
  },
  "nbformat": 4,
  "nbformat_minor": 0
}
