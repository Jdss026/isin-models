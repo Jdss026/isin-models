{
 "cells": [
  {
   "cell_type": "code",
   "execution_count": 17,
   "metadata": {},
   "outputs": [],
   "source": [
    "import numpy as np\n",
    "import matplotlib.pyplot as plt\n",
    "from scipy.sparse import spdiags,linalg,eye\n",
    "from scipy.sparse import lil_matrix"
   ]
  },
  {
   "cell_type": "markdown",
   "metadata": {},
   "source": [
    "## Original Laplacian"
   ]
  },
  {
   "cell_type": "code",
   "execution_count": 11,
   "metadata": {},
   "outputs": [
    {
     "data": {
      "text/plain": [
       "array([[-4.,  1.,  0.,  1.,  0.,  0.,  0.,  0.,  0.],\n",
       "       [ 1., -4.,  1.,  0.,  1.,  0.,  0.,  0.,  0.],\n",
       "       [ 0.,  1., -4.,  0.,  0.,  1.,  0.,  0.,  0.],\n",
       "       [ 1.,  0.,  0., -4.,  1.,  0.,  1.,  0.,  0.],\n",
       "       [ 0.,  1.,  0.,  1., -4.,  1.,  0.,  1.,  0.],\n",
       "       [ 0.,  0.,  1.,  0.,  1., -4.,  0.,  0.,  1.],\n",
       "       [ 0.,  0.,  0.,  1.,  0.,  0., -4.,  1.,  0.],\n",
       "       [ 0.,  0.,  0.,  0.,  1.,  0.,  1., -4.,  1.],\n",
       "       [ 0.,  0.,  0.,  0.,  0.,  1.,  0.,  1., -4.]])"
      ]
     },
     "execution_count": 11,
     "metadata": {},
     "output_type": "execute_result"
    }
   ],
   "source": [
    "def laplacian(Ng):\n",
    "    dh = 1.0\n",
    "    '''Construct a sparse matrix that applies the 5-point Laplacian discretization'''\n",
    "    e=np.ones(Ng**2)\n",
    "    e2=([1]*(Ng-1)+[0])*Ng\n",
    "    e3=([0]+[1]*(Ng-1))*Ng\n",
    "    h=dh\n",
    "    A=spdiags([-4*e,e2,e3,e,e],[0,-1,1,-Ng,Ng],Ng**2,Ng**2)\n",
    "    A/=h**2\n",
    "    return A\n",
    "\n",
    "laplacian(Ng=3).toarray()"
   ]
  },
  {
   "cell_type": "markdown",
   "metadata": {},
   "source": [
    "## New Laplacian"
   ]
  },
  {
   "cell_type": "code",
   "execution_count": 16,
   "metadata": {},
   "outputs": [
    {
     "data": {
      "text/plain": [
       "array([[-4.,  1.,  0.,  1.,  0.,  0.,  0.,  0.,  0.],\n",
       "       [ 1., -4.,  1.,  0.,  1.,  0.,  0.,  0.,  0.],\n",
       "       [ 0.,  1., -4.,  0.,  0.,  1.,  0.,  0.,  0.],\n",
       "       [ 1.,  0.,  0., -4.,  1.,  0.,  1.,  0.,  0.],\n",
       "       [ 0.,  1.,  0.,  1., -4.,  1.,  0.,  1.,  0.],\n",
       "       [ 0.,  0.,  1.,  0.,  1., -4.,  0.,  0.,  1.],\n",
       "       [ 0.,  0.,  0.,  1.,  0.,  0., -4.,  1.,  0.],\n",
       "       [ 0.,  0.,  0.,  0.,  1.,  0.,  1., -4.,  1.],\n",
       "       [ 0.,  0.,  0.,  0.,  0.,  1.,  0.,  1., -4.]])"
      ]
     },
     "execution_count": 16,
     "metadata": {},
     "output_type": "execute_result"
    }
   ],
   "source": [
    "def laplacian(n):\n",
    "    # Total number of grid points\n",
    "    total_points = n * n\n",
    "    matrix_laplacian = lil_matrix((total_points, total_points))\n",
    "    \n",
    "    # Fill the matrix based on finite difference method for Laplacian\n",
    "    for i in range(n):\n",
    "        for j in range(n):\n",
    "            row = i * n + j  # Current grid point\n",
    "            # Diagonal element\n",
    "            matrix_laplacian[row, row] = 4\n",
    "            # Check and update neighbors (left, right, up, down)\n",
    "            if i > 0:\n",
    "                matrix_laplacian[row, (i - 1) * n + j] = -1  # Up\n",
    "            if i < n - 1:\n",
    "                matrix_laplacian[row, (i + 1) * n + j] = -1  # Down\n",
    "            if j > 0:\n",
    "                matrix_laplacian[row, i * n + (j - 1)] = -1  # Left\n",
    "            if j < n - 1:\n",
    "                matrix_laplacian[row, i * n + (j + 1)] = -1  # Right\n",
    "    \n",
    "    # Convert to CSR format for efficient arithmetic operations\n",
    "    \n",
    "    matrix_laplacian = matrix_laplacian.tocsr()\n",
    "    matrix_laplacian = -matrix_laplacian\n",
    "    h=1.\n",
    "    matrix_laplacian/=h**2\n",
    "    return matrix_laplacian\n",
    "\n",
    "laplacian(n=3).toarray()"
   ]
  },
  {
   "cell_type": "code",
   "execution_count": 24,
   "metadata": {},
   "outputs": [
    {
     "data": {
      "image/png": "[encoded data removed]",
      "text/plain": [
       "<Figure size 400x300 with 1 Axes>"
      ]
     },
     "metadata": {},
     "output_type": "display_data"
    }
   ],
   "source": [
    "a, b = -1, 1\n",
    "pot_func = lambda x: (a/2) * pow(x,2) + (b/4) * pow(x,4) - 0.1 * x\n",
    "listx = np.linspace(-1.5, 1.5, num=50)\n",
    "list_pot = [pot_func(x) for x in listx]\n",
    "\n",
    "plt.figure(figsize=(4, 3))\n",
    "plt.plot(listx, list_pot)\n",
    "plt.show()"
   ]
  },
  {
   "cell_type": "code",
   "execution_count": null,
   "metadata": {},
   "outputs": [],
   "source": []
  }
 ],
 "metadata": {
  "kernelspec": {
   "display_name": "venv",
   "language": "python",
   "name": "python3"
  },
  "language_info": {
   "codemirror_mode": {
    "name": "ipython",
    "version": 3
   },
   "file_extension": ".py",
   "mimetype": "text/x-python",
   "name": "python",
   "nbconvert_exporter": "python",
   "pygments_lexer": "ipython3",
   "version": "3.11.6"
  }
 },
 "nbformat": 4,
 "nbformat_minor": 2
}
