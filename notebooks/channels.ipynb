{
 "cells": [
  {
   "cell_type": "code",
   "execution_count": 1,
   "metadata": {},
   "outputs": [],
   "source": [
    "import torch"
   ]
  },
  {
   "cell_type": "code",
   "execution_count": 2,
   "metadata": {},
   "outputs": [
    {
     "data": {
      "text/plain": [
       "tensor([[0.1000, 0.5000, 0.8000],\n",
       "        [0.3000, 0.2000, 0.6000],\n",
       "        [0.4000, 0.9000, 0.7000]])"
      ]
     },
     "execution_count": 2,
     "metadata": {},
     "output_type": "execute_result"
    }
   ],
   "source": [
    "# Grayscale image tensor (3x3)\n",
    "grayscale_image = torch.tensor([[0.1, 0.5, 0.8],\n",
    "                                 [0.3, 0.2, 0.6],\n",
    "                                 [0.4, 0.9, 0.7]])\n",
    "\n",
    "grayscale_image"
   ]
  },
  {
   "cell_type": "code",
   "execution_count": 3,
   "metadata": {},
   "outputs": [
    {
     "data": {
      "text/plain": [
       "tensor([[[0.1000, 0.5000, 0.8000],\n",
       "         [0.3000, 0.2000, 0.6000],\n",
       "         [0.4000, 0.9000, 0.7000]],\n",
       "\n",
       "        [[0.8000, 0.2000, 0.6000],\n",
       "         [0.5000, 0.1000, 0.3000],\n",
       "         [0.9000, 0.4000, 0.7000]],\n",
       "\n",
       "        [[0.2000, 0.7000, 0.4000],\n",
       "         [0.6000, 0.3000, 0.8000],\n",
       "         [0.1000, 0.9000, 0.5000]]])"
      ]
     },
     "execution_count": 3,
     "metadata": {},
     "output_type": "execute_result"
    }
   ],
   "source": [
    "rgb_image = torch.tensor([[[0.1, 0.5, 0.8],\n",
    "                           [0.3, 0.2, 0.6],\n",
    "                           [0.4, 0.9, 0.7]],\n",
    "                          [[0.8, 0.2, 0.6],\n",
    "                           [0.5, 0.1, 0.3],\n",
    "                           [0.9, 0.4, 0.7]],\n",
    "                          [[0.2, 0.7, 0.4],\n",
    "                           [0.6, 0.3, 0.8],\n",
    "                           [0.1, 0.9, 0.5]]])\n",
    "\n",
    "rgb_image"
   ]
  },
  {
   "cell_type": "code",
   "execution_count": null,
   "metadata": {},
   "outputs": [],
   "source": []
  }
 ],
 "metadata": {
  "kernelspec": {
   "display_name": "Python 3",
   "language": "python",
   "name": "python3"
  },
  "language_info": {
   "codemirror_mode": {
    "name": "ipython",
    "version": 3
   },
   "file_extension": ".py",
   "mimetype": "text/x-python",
   "name": "python",
   "nbconvert_exporter": "python",
   "pygments_lexer": "ipython3",
   "version": "3.6.8"
  },
  "orig_nbformat": 4
 },
 "nbformat": 4,
 "nbformat_minor": 2
}
