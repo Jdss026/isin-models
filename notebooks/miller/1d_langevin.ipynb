{
  "cells": [
    {
      "cell_type": "code",
      "execution_count": 63,
      "metadata": {},
      "outputs": [],
      "source": [
        "import matplotlib.pyplot as plt\n",
        "import torch.sparse as sp\n",
        "from scipy.sparse import lil_matrix\n",
        "import torch\n",
        "from paramets import *\n",
        "import numpy as np\n",
        "from tqdm import tqdm"
      ]
    },
    {
      "cell_type": "markdown",
      "metadata": {
        "id": "dKMP6BShVEP6"
      },
      "source": [
        "## Rewrite the original code using torch"
      ]
    },
    {
      "cell_type": "code",
      "execution_count": 64,
      "metadata": {
        "id": "UTrVkbBKT7_5"
      },
      "outputs": [
        {
          "name": "stdout",
          "output_type": "stream",
          "text": [
            "tensor([[ 2., -1.,  0.,  0.],\n",
            "        [-1.,  2., -1.,  0.],\n",
            "        [ 0., -1.,  2., -1.],\n",
            "        [ 0.,  0., -1.,  2.]])\n"
          ]
        }
      ],
      "source": [
        "# Ng, Tf = 64, 10001\n",
        "\n",
        "def laplacian_1d(n):\n",
        "    # Total number of grid points\n",
        "    total_points = n\n",
        "    # Initialize a lil_matrix with shape (N, N)\n",
        "    matrix_laplacian = lil_matrix((total_points, total_points))\n",
        "    # Fill in the matrix\n",
        "    for i in range(n):\n",
        "        matrix_laplacian[i, i] = -2.0\n",
        "        if i > 0:\n",
        "            matrix_laplacian[i, i-1] = 1.0\n",
        "        if i < n - 1:\n",
        "            matrix_laplacian[i, i+1] = 1.0\n",
        "\n",
        "    # Convert to CSR format for efficient arithmetic operations\n",
        "    matrix_laplacian = matrix_laplacian.tocsr()\n",
        "    matrix_laplacian = -matrix_laplacian\n",
        "\n",
        "    # Extract coordinates and values\n",
        "    row_indices = []\n",
        "    col_indices = []\n",
        "    values = []\n",
        "\n",
        "    for row in range(matrix_laplacian.shape[0]):\n",
        "        start = matrix_laplacian.indptr[row]\n",
        "        end = matrix_laplacian.indptr[row + 1]\n",
        "        row_indices.extend([row] * (end - start))\n",
        "        col_indices.extend(matrix_laplacian.indices[start:end])\n",
        "        values.extend(matrix_laplacian.data[start:end])\n",
        "    \n",
        "    # convert to coo_matrix\n",
        "    coo_matrix = torch.sparse_coo_tensor(\n",
        "                torch.tensor([row_indices, col_indices], dtype=torch.int64),\n",
        "                torch.tensor(values, dtype=torch.float32),\n",
        "                torch.Size((n,n))\n",
        "                )\n",
        "\n",
        "    return coo_matrix\n",
        "\n",
        "# Example usage\n",
        "grid_size = 4  # Change this value to adjust the grid size\n",
        "laplacian_matrix = laplacian_1d(grid_size)\n",
        "\n",
        "print(laplacian_matrix.to_dense())  # Print the dense representation for visualization"
      ]
    },
    {
      "cell_type": "code",
      "execution_count": 65,
      "metadata": {},
      "outputs": [],
      "source": [
        "master_list = []\n",
        "def integrate(L, u, T):\n",
        "    '''  simulates the equation and plots it at different instants '''\n",
        "    T = torch.tensor([T], device='cpu')\n",
        "    for i in range(Tf.item()):\n",
        "        noise = torch.normal(mean=0.0, std=1.0, size=(Ng, 1), device='cpu')\n",
        "        u = u - (dt) * (a * u + b * u * u * u - c - k * torch.mm(L, u)) + (torch.sqrt(2 * T * dt)) * noise  # Euler's method\n",
        "        u[0] = -1 \n",
        "        u[Ng-1] = +1\n",
        "        if (i==10000):\n",
        "            master_list.append(u)"
      ]
    },
    {
      "cell_type": "markdown",
      "metadata": {},
      "source": [
        "## Calculate the mean of configurations"
      ]
    },
    {
      "cell_type": "code",
      "execution_count": 66,
      "metadata": {},
      "outputs": [],
      "source": [
        "def avg_realizations(master_list, Ng):\n",
        "    \"\"\" Evaluate the average over the configurations (realizations)\"\"\"\n",
        "    mean_config = []\n",
        "    size = len(master_list)\n",
        "    N = Ng\n",
        "    temp = 0\n",
        "    for point in tqdm(range(N), desc=\"Processing\", ncols=100, ascii=True):\n",
        "        for config in range(size):\n",
        "            temp += master_list[config][point]\n",
        "        mean_config.append(temp/size)\n",
        "        temp = 0\n",
        "    mean_config = torch.tensor(mean_config)\n",
        "    mean_config = mean_config.view((Ng))\n",
        "    #plt.figure(figsize=(4, 3))\n",
        "    #plt.imshow(mean_config)\n",
        "    #plt.show()\n",
        "    return mean_config"
      ]
    },
    {
      "cell_type": "code",
      "execution_count": 67,
      "metadata": {},
      "outputs": [],
      "source": [
        "def avg_final(mean_config, Ng):\n",
        "    sum = 0 \n",
        "    for x in range(Ng):\n",
        "        for y in range(Ng):\n",
        "            sum = sum + mean_config[x][y]\n",
        "    return sum / (Ng*Ng)\n",
        "\n",
        "# media_final(mean_config, Ng)"
      ]
    },
    {
      "cell_type": "markdown",
      "metadata": {},
      "source": [
        "## RUN PIPELINE"
      ]
    },
    {
      "cell_type": "code",
      "execution_count": 68,
      "metadata": {},
      "outputs": [],
      "source": [
        "# generate the grid and initialise the field\n",
        "\n",
        "## define o dispositivo cuda a ser utilizado\n",
        "\n",
        "device = torch.device('cpu')\n",
        "\n",
        "x = torch.linspace(-1, 1, Ng)\n",
        "y = torch.linspace(-1, 1, Ng)\n",
        "X, Y = torch.meshgrid(x, y)\n",
        "\n",
        "## simula 100 configurações finais com os parametros iniciais\n",
        "L = laplacian_1d(Ng)\n",
        "L = L.to(device)         # construct the laplacian\n",
        "N_real = 50\n",
        "\n",
        "list_vev = []"
      ]
    },
    {
      "cell_type": "code",
      "execution_count": 70,
      "metadata": {},
      "outputs": [
        {
          "name": "stdout",
          "output_type": "stream",
          "text": [
            "---------------- Temperature: 0.0001 --------------------- \n"
          ]
        },
        {
          "name": "stderr",
          "output_type": "stream",
          "text": [
            "Processing: 100%|###################################################| 50/50 [01:16<00:00,  1.53s/it]\n",
            "Processing: 100%|#################################################| 64/64 [00:00<00:00, 1990.21it/s]\n"
          ]
        }
      ],
      "source": [
        "list_mean_config = []\n",
        "for T in [0.0001]: #np.linspace(0.01, 15, num=10):\n",
        "  T = float(T)\n",
        "  print(f\"---------------- Temperature: {T} --------------------- \")\n",
        "  for realization in tqdm(range(N_real), desc=\"Processing\", ncols=100, ascii=True):\n",
        "    u = torch.randn(Ng, 1, device=device)  # Initial data\n",
        "    ## boundary_cond\n",
        "    u[0] = -1 \n",
        "    u[Ng-1] = +1\n",
        "    integrate(L, u, T)    # simulate\n",
        "\n",
        "  mean_config = avg_realizations(master_list, Ng)\n",
        "  list_mean_config.append(mean_config)"
      ]
    },
    {
      "cell_type": "code",
      "execution_count": 71,
      "metadata": {},
      "outputs": [],
      "source": [
        "list_mean = list_mean_config[0].tolist()\n",
        "list_x = [x for x in range(Ng)]"
      ]
    },
    {
      "cell_type": "code",
      "execution_count": 73,
      "metadata": {},
      "outputs": [
        {
          "data": {
            "image/png": "[encoded data removed]",
            "text/plain": [
              "<Figure size 640x480 with 1 Axes>"
            ]
          },
          "metadata": {},
          "output_type": "display_data"
        }
      ],
      "source": [
        "plt.plot(list_x, list_mean)\n",
        "plt.show()"
      ]
    },
    {
      "cell_type": "code",
      "execution_count": null,
      "metadata": {},
      "outputs": [],
      "source": []
    }
  ],
  "metadata": {
    "accelerator": "GPU",
    "colab": {
      "gpuType": "T4",
      "provenance": []
    },
    "kernelspec": {
      "display_name": "Python 3",
      "name": "python3"
    },
    "language_info": {
      "codemirror_mode": {
        "name": "ipython",
        "version": 3
      },
      "file_extension": ".py",
      "mimetype": "text/x-python",
      "name": "python",
      "nbconvert_exporter": "python",
      "pygments_lexer": "ipython3",
      "version": "3.9.12"
    }
  },
  "nbformat": 4,
  "nbformat_minor": 0
}
