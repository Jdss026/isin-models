{
  "cells": [
    {
      "cell_type": "code",
      "execution_count": 1,
      "metadata": {},
      "outputs": [],
      "source": [
        "import matplotlib.pyplot as plt\n",
        "import torch.sparse as sp\n",
        "from scipy.sparse import lil_matrix\n",
        "import torch\n",
        "from paramets import *\n",
        "import numpy as np\n",
        "from tqdm import tqdm"
      ]
    },
    {
      "cell_type": "markdown",
      "metadata": {},
      "source": [
        "## Configurations"
      ]
    },
    {
      "cell_type": "markdown",
      "metadata": {
        "id": "dKMP6BShVEP6"
      },
      "source": [
        "## Rewrite the original code using torch"
      ]
    },
    {
      "cell_type": "code",
      "execution_count": 2,
      "metadata": {
        "id": "UTrVkbBKT7_5"
      },
      "outputs": [],
      "source": [
        "# Ng, Tf = 64, 10001\n",
        "\n",
        "def laplacian(n):\n",
        "    # Total number of grid points\n",
        "    total_points = n * n\n",
        "    matrix_laplacian = lil_matrix((total_points, total_points))\n",
        "    \n",
        "    # Fill the matrix based on finite difference method for Laplacian\n",
        "    for i in range(n):\n",
        "        for j in range(n):\n",
        "            row = i * n + j  # Current grid point\n",
        "            # Diagonal element\n",
        "            matrix_laplacian[row, row] = 4\n",
        "            # Check and update neighbors (left, right, up, down)\n",
        "            if i > 0:\n",
        "                matrix_laplacian[row, (i - 1) * n + j] = -1  # Up\n",
        "            if i < n - 1:\n",
        "                matrix_laplacian[row, (i + 1) * n + j] = -1  # Down\n",
        "            if j > 0:\n",
        "                matrix_laplacian[row, i * n + (j - 1)] = -1  # Left\n",
        "            if j < n - 1:\n",
        "                matrix_laplacian[row, i * n + (j + 1)] = -1  # Right\n",
        "    \n",
        "    # Convert to CSR format for efficient arithmetic operations\n",
        "    \n",
        "    matrix_laplacian = matrix_laplacian.tocsr()\n",
        "    matrix_laplacian = -matrix_laplacian\n",
        "\n",
        "    # Extract coordinates and values\n",
        "    row_indices = []\n",
        "    col_indices = []\n",
        "    values = []\n",
        "\n",
        "    for row in range(matrix_laplacian.shape[0]):\n",
        "        start = matrix_laplacian.indptr[row]\n",
        "        end = matrix_laplacian.indptr[row + 1]\n",
        "        row_indices.extend([row] * (end - start))\n",
        "        col_indices.extend(matrix_laplacian.indices[start:end])\n",
        "        values.extend(matrix_laplacian.data[start:end])\n",
        "    \n",
        "    # convert to coo_matrix\n",
        "    coo_matrix = torch.sparse_coo_tensor(\n",
        "                torch.tensor([row_indices, col_indices], dtype=torch.int64),\n",
        "                torch.tensor(values, dtype=torch.float32),\n",
        "                torch.Size((n*n,n*n))\n",
        "                )\n",
        "    return coo_matrix\n",
        "\n",
        "master_list = []\n",
        "def integrate(L, u, T):\n",
        "    '''  simulates the equation and plots it at different instants '''\n",
        "    T = torch.tensor([T], device='cpu')\n",
        "    for i in range(Tf.item()):\n",
        "        noise = torch.normal(mean=0.0, std=1.0, size=(Ng * Ng, 1), device='cpu')\n",
        "        u = u - dt * (a * u + b * u * u * u - c - k * torch.mm(L, u)) + torch.sqrt(2 * T * dt) * noise  # Euler's method\n",
        "        if (i==10000):\n",
        "            master_list.append(u)"
      ]
    },
    {
      "cell_type": "markdown",
      "metadata": {},
      "source": [
        "## Calculate the mean of configurations"
      ]
    },
    {
      "cell_type": "code",
      "execution_count": 3,
      "metadata": {},
      "outputs": [],
      "source": [
        "def avg_realizations(master_list, Ng):\n",
        "    \"\"\" Evaluate the average over the configurations (realizations)\"\"\"\n",
        "    mean_config = []\n",
        "    size = len(master_list)\n",
        "    N = Ng*Ng\n",
        "    temp = 0\n",
        "    for point in tqdm(range(N), desc=\"Processing\", ncols=100, ascii=True):\n",
        "        for config in range(size):\n",
        "            temp += master_list[config][point]\n",
        "        mean_config.append(temp/size)\n",
        "        temp = 0\n",
        "    mean_config = torch.tensor(mean_config)\n",
        "    mean_config = mean_config.view((Ng, Ng))\n",
        "    plt.figure(figsize=(4, 3))\n",
        "    plt.imshow(mean_config)\n",
        "    plt.show()\n",
        "    return mean_config\n",
        "\n",
        "# mean_config = avg_realizations(master_list, Ng)\n",
        "# plt.imshow(mean_config)\n",
        "# plt.show()"
      ]
    },
    {
      "cell_type": "code",
      "execution_count": 4,
      "metadata": {},
      "outputs": [],
      "source": [
        "def avg_final(mean_config, Ng):\n",
        "    sum = 0 \n",
        "    for x in range(Ng):\n",
        "        for y in range(Ng):\n",
        "            sum = sum + mean_config[x][y]\n",
        "    return sum / (Ng*Ng)\n",
        "\n",
        "# media_final(mean_config, Ng)"
      ]
    },
    {
      "cell_type": "markdown",
      "metadata": {},
      "source": [
        "## RUN PIPELINE"
      ]
    },
    {
      "cell_type": "code",
      "execution_count": 5,
      "metadata": {},
      "outputs": [
        {
          "name": "stderr",
          "output_type": "stream",
          "text": [
            "c:\\Users\\CarlissonMiller\\Documents\\CloneGit\\ising-models\\venv\\Lib\\site-packages\\torch\\functional.py:504: UserWarning: torch.meshgrid: in an upcoming release, it will be required to pass the indexing argument. (Triggered internally at ..\\aten\\src\\ATen\\native\\TensorShape.cpp:3527.)\n",
            "  return _VF.meshgrid(tensors, **kwargs)  # type: ignore[attr-defined]\n"
          ]
        },
        {
          "name": "stdout",
          "output_type": "stream",
          "text": [
            "---------------- Temperature: 0.0001 --------------------- \n"
          ]
        },
        {
          "name": "stderr",
          "output_type": "stream",
          "text": [
            "Processing: 100%|###################################################| 50/50 [06:27<00:00,  7.75s/it]\n",
            "Processing: 100%|#############################################| 4096/4096 [00:01<00:00, 2502.61it/s]\n"
          ]
        },
        {
          "data": {
            "image/png": "[encoded data removed]",
            "text/plain": [
              "<Figure size 400x300 with 1 Axes>"
            ]
          },
          "metadata": {},
          "output_type": "display_data"
        }
      ],
      "source": [
        "# generate the grid and initialise the field\n",
        "\n",
        "## define o dispositivo cuda a ser utilizado\n",
        "\n",
        "device = torch.device('cpu')\n",
        "\n",
        "x = torch.linspace(-1, 1, Ng)\n",
        "y = torch.linspace(-1, 1, Ng)\n",
        "X, Y = torch.meshgrid(x, y)\n",
        "\n",
        "## simula 100 configurações finais com os parametros iniciais\n",
        "L = laplacian(Ng)\n",
        "L = L.to(device)         # construct the laplacian\n",
        "N_real = 50\n",
        "\n",
        "list_vev = []\n",
        "list_temperature = [0.0001] # 0.2, 0.3, 0.4, 0.5]\n",
        "for T in list_temperature:\n",
        "  print(f\"---------------- Temperature: {T} --------------------- \")\n",
        "  for realization in tqdm(range(N_real), desc=\"Processing\", ncols=100, ascii=True):\n",
        "    u = torch.randn(Ng * Ng, 1, device=device)  # Initial data\n",
        "    integrate(L, u, T)    # simulate\n",
        "    # if realization % 10 ==0:\n",
        "      # print(f'Realization: {realization}')\n",
        "\n",
        "  mean_config = avg_realizations(master_list, Ng)\n",
        "  VEV = avg_final(mean_config, Ng)\n",
        "  list_vev.append(VEV)"
      ]
    },
    {
      "cell_type": "code",
      "execution_count": 6,
      "metadata": {},
      "outputs": [
        {
          "data": {
            "text/plain": [
              "[tensor(0.9981)]"
            ]
          },
          "execution_count": 6,
          "metadata": {},
          "output_type": "execute_result"
        }
      ],
      "source": [
        "list_vev"
      ]
    },
    {
      "cell_type": "code",
      "execution_count": 30,
      "metadata": {},
      "outputs": [
        {
          "data": {
            "text/plain": [
              "[tensor(0.0040)]"
            ]
          },
          "execution_count": 30,
          "metadata": {},
          "output_type": "execute_result"
        }
      ],
      "source": [
        "list_vev"
      ]
    },
    {
      "cell_type": "code",
      "execution_count": 26,
      "metadata": {},
      "outputs": [
        {
          "data": {
            "text/plain": [
              "[tensor(0.0189)]"
            ]
          },
          "execution_count": 26,
          "metadata": {},
          "output_type": "execute_result"
        }
      ],
      "source": [
        "list_vev"
      ]
    },
    {
      "cell_type": "code",
      "execution_count": 13,
      "metadata": {},
      "outputs": [
        {
          "data": {
            "text/plain": [
              "[tensor(0.0424)]"
            ]
          },
          "execution_count": 13,
          "metadata": {},
          "output_type": "execute_result"
        }
      ],
      "source": [
        "list_vev"
      ]
    },
    {
      "cell_type": "code",
      "execution_count": 27,
      "metadata": {},
      "outputs": [],
      "source": [
        "# plt.plot(list_temperature, list_vev)\n",
        "# plt.show()"
      ]
    }
  ],
  "metadata": {
    "accelerator": "GPU",
    "colab": {
      "gpuType": "T4",
      "provenance": []
    },
    "kernelspec": {
      "display_name": "Python 3",
      "name": "python3"
    },
    "language_info": {
      "codemirror_mode": {
        "name": "ipython",
        "version": 3
      },
      "file_extension": ".py",
      "mimetype": "text/x-python",
      "name": "python",
      "nbconvert_exporter": "python",
      "pygments_lexer": "ipython3",
      "version": "3.11.6"
    }
  },
  "nbformat": 4,
  "nbformat_minor": 0
}
